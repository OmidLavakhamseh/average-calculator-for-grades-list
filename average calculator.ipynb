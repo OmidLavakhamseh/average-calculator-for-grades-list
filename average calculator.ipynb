{
 "cells": [
  {
   "cell_type": "markdown",
   "id": "a9dd46e8",
   "metadata": {},
   "source": [
    "### 1.print average of students grades with their names in the order of the list."
   ]
  },
  {
   "cell_type": "code",
   "execution_count": 11,
   "id": "beda319b",
   "metadata": {
    "scrolled": true
   },
   "outputs": [
    {
     "name": "stdout",
     "output_type": "stream",
     "text": [
      "mandana : 7.5\n",
      "amir : 7.5\n",
      "hamid : 9.0\n",
      "sina : 13.5\n",
      "sara : 9.75\n",
      "soheila : 5.25\n",
      "ali : 5.0\n",
      "sarvin : 11.25\n",
      "Omid : 18.75\n",
      "Arezo : 18.75\n"
     ]
    }
   ],
   "source": [
    "import csv\n",
    "# For the average\n",
    "from statistics import mean\n",
    "from operator import itemgetter\n",
    "\n",
    "def calculate_averages(input_file_name, output_file_name):\n",
    "    with open(input_file_name, mode='r') as csv_in:\n",
    "        csv_content = csv.reader(csv_in)\n",
    "        with open(output_file_name, 'w', newline='') as csv_out:\n",
    "            csv_writer = csv.writer(csv_out)#make a list so we can iterate\n",
    "            esm=list()\n",
    "            moadel=dict()\n",
    "            for row in csv_content:\n",
    "                name=row[0]\n",
    "                vals=[float(val) for val in row[1:]]\n",
    "                ave=mean(vals)\n",
    "                moadel[name]=ave              \n",
    "                print(f'{name} : {ave}')\n",
    "                csv_writer.writerow([name,ave])        \n",
    "calculate_averages(\"C:/Users/omidl/OneDrive/Desktop/test PY/grades.csv\",'C:/Users/omidl/OneDrive/Desktop/test PY/averages.csv')\n",
    "        "
   ]
  },
  {
   "cell_type": "markdown",
   "id": "bbba5edd",
   "metadata": {},
   "source": [
    "### 2. print average of students grades with their names in the acsending order.\n"
   ]
  },
  {
   "cell_type": "code",
   "execution_count": 15,
   "id": "30542020",
   "metadata": {},
   "outputs": [
    {
     "name": "stdout",
     "output_type": "stream",
     "text": [
      "ali : 5.0\n",
      "soheila : 5.25\n",
      "mandana : 7.5\n",
      "amir : 7.5\n",
      "hamid : 9.0\n",
      "sara : 9.75\n",
      "sarvin : 11.25\n",
      "sina : 13.5\n",
      "Omid : 18.75\n",
      "Arezo : 18.75\n"
     ]
    }
   ],
   "source": [
    "def calculate_sorted_averages(input_file_name, output_file_name):\n",
    "    with open(input_file_name, mode='r') as csv_in:\n",
    "        csv_content = csv.reader(csv_in)\n",
    "        with open(output_file_name, 'w', newline='') as csv_out:\n",
    "            csv_writer = csv.writer(csv_out)\n",
    "            moadel=dict()\n",
    "            sorted_averages=dict()\n",
    "            for row in csv_content:\n",
    "                name=row[0]\n",
    "                vals=[float(val) for val in row[1:]]\n",
    "                ave=mean(vals)\n",
    "                moadel[name]= ave\n",
    "            sorted_averages= sorted(moadel.items(), key=itemgetter(1))\n",
    "            #print(sorted_averages)\n",
    "            for key, value in sorted_averages:\n",
    "                print(f'{key} : {value}')\n",
    "                csv_writer.writerow([name,ave])\n",
    "                \n",
    "calculate_sorted_averages(\"C:/Users/omidl/OneDrive/Desktop/test PY/grades.csv\",'C:/Users/omidl/OneDrive/Desktop/test PY/averages.csv')        "
   ]
  },
  {
   "cell_type": "markdown",
   "id": "ce52d520",
   "metadata": {},
   "source": [
    "### 3. print three highest average with their names."
   ]
  },
  {
   "cell_type": "code",
   "execution_count": 19,
   "id": "abd1d2e9",
   "metadata": {},
   "outputs": [
    {
     "name": "stdout",
     "output_type": "stream",
     "text": [
      "Arezo : 18.75\n",
      "Omid : 18.75\n",
      "sina : 13.5\n"
     ]
    }
   ],
   "source": [
    "def calculate_three_best(input_file_name, output_file_name):\n",
    "    with open(input_file_name, mode='r') as csv_in:\n",
    "        csv_content = csv.reader(csv_in)\n",
    "        with open(output_file_name, 'w', newline='') as csv_out:\n",
    "            csv_writer = csv.writer(csv_out)\n",
    "            moadel=dict()\n",
    "            sorted_averages=dict()\n",
    "            for row in csv_content:\n",
    "                name=row[0]\n",
    "                vals=[float(val) for val in row[1:]]\n",
    "                ave=mean(vals)\n",
    "                moadel[name]= ave\n",
    "            sorted_averages= sorted(moadel.items(), key=itemgetter(1))\n",
    "            for i in range(3):\n",
    "                if sorted_averages[-1-i][0] in sorted_averages:\n",
    "                    esm=tekrari.pop(0)#if we don't use pop then it would see it is not in tekrari and print twice\n",
    "                    val= sorted_averages[-1-i][1]\n",
    "                else:\n",
    "                    esm= sorted_averages[-1-i][0]\n",
    "                    val= sorted_averages[-1-i][1]\n",
    "                print(f'{esm} : {val}')\n",
    "                csv_writer.writerow([esm,val])\n",
    "                \n",
    "                \n",
    "calculate_three_best(\"C:/Users/omidl/OneDrive/Desktop/test PY/grades.csv\",'C:/Users/omidl/OneDrive/Desktop/test PY/averages.csv')\n",
    "        "
   ]
  },
  {
   "cell_type": "markdown",
   "id": "3fc8a67d",
   "metadata": {},
   "source": [
    "### 4. print the lowest grades without names."
   ]
  },
  {
   "cell_type": "code",
   "execution_count": 21,
   "id": "1056396f",
   "metadata": {},
   "outputs": [
    {
     "name": "stdout",
     "output_type": "stream",
     "text": [
      "ali : 5.0\n",
      "soheila : 5.25\n",
      "mandana : 7.5\n"
     ]
    }
   ],
   "source": [
    "def calculate_three_worst(input_file_name, output_file_name):\n",
    "    with open(input_file_name, mode='r') as csv_in:\n",
    "        csv_content = csv.reader(csv_in)\n",
    "        with open(output_file_name, 'w', newline='') as csv_out:\n",
    "            csv_writer = csv.writer(csv_out)\n",
    "            moadel=dict()\n",
    "            sorted_averages=dict()\n",
    "            for row in csv_content:\n",
    "                name=row[0]\n",
    "                vals=[float(val) for val in row[1:]]\n",
    "                ave=mean(vals)\n",
    "                moadel[name]= ave\n",
    "            sorted_averages= sorted(moadel.items(), key=itemgetter(1))\n",
    "            for i in range(3):\n",
    "                if sorted_averages[i][0] in sorted_averages:\n",
    "                    esm=tekrari.pop(0)\n",
    "                    val= sorted_averages[i][1]\n",
    "                else:\n",
    "                    esm= sorted_averages[i][0]\n",
    "                    val= sorted_averages[i][1]\n",
    "                print(f'{esm} : {val}')\n",
    "                csv_writer.writerow([val])\n",
    "                \n",
    "calculate_three_worst(\"C:/Users/omidl/OneDrive/Desktop/test PY/grades.csv\",'C:/Users/omidl/OneDrive/Desktop/test PY/averages.csv')\n",
    "        "
   ]
  },
  {
   "cell_type": "markdown",
   "id": "f48d28f1",
   "metadata": {},
   "source": [
    "### 5. taking the average of the students averages."
   ]
  },
  {
   "cell_type": "code",
   "execution_count": 22,
   "id": "386d8db6",
   "metadata": {},
   "outputs": [
    {
     "name": "stdout",
     "output_type": "stream",
     "text": [
      "10.625\n"
     ]
    }
   ],
   "source": [
    "def calculate_average_of_averages(input_file_name, output_file_name):   \n",
    "    with open(input_file_name, mode='r') as csv_in:\n",
    "        csv_content = csv.reader(csv_in)\n",
    "        with open(output_file_name, 'w', newline='') as csv_out:\n",
    "            csv_writer = csv.writer(csv_out)\n",
    "            moadel=dict()\n",
    "            moadels=list() # list of all moadels\n",
    "            for row in csv_content:\n",
    "                name=row[0]\n",
    "                vals=[float(val) for val in row[1:]]\n",
    "                ave=mean(vals)\n",
    "                moadel[name]= ave\n",
    "                moadels.append(ave)\n",
    "            print(mean(moadels  ))\n",
    "            csv_writer.writerow([mean(moadels)])\n",
    "calculate_average_of_averages(\"C:/Users/omidl/OneDrive/Desktop/test PY/grades.csv\",'C:/Users/omidl/OneDrive/Desktop/test PY/averages.csv')\n",
    "        "
   ]
  },
  {
   "cell_type": "code",
   "execution_count": null,
   "id": "5fc0e4c5",
   "metadata": {},
   "outputs": [],
   "source": []
  }
 ],
 "metadata": {
  "kernelspec": {
   "display_name": "Python 3 (ipykernel)",
   "language": "python",
   "name": "python3"
  },
  "language_info": {
   "codemirror_mode": {
    "name": "ipython",
    "version": 3
   },
   "file_extension": ".py",
   "mimetype": "text/x-python",
   "name": "python",
   "nbconvert_exporter": "python",
   "pygments_lexer": "ipython3",
   "version": "3.9.7"
  }
 },
 "nbformat": 4,
 "nbformat_minor": 5
}
